{
  "nbformat": 4,
  "nbformat_minor": 0,
  "metadata": {
    "colab": {
      "provenance": [],
      "authorship_tag": "ABX9TyMJ5PXGogzynjHHNXB9k7Aa",
      "include_colab_link": true
    },
    "kernelspec": {
      "name": "python3",
      "display_name": "Python 3"
    },
    "language_info": {
      "name": "python"
    }
  },
  "cells": [
    {
      "cell_type": "markdown",
      "metadata": {
        "id": "view-in-github",
        "colab_type": "text"
      },
      "source": [
        "<a href=\"https://colab.research.google.com/github/suji0627/Digitalportfolio/blob/main/Untitled26.ipynb\" target=\"_parent\"><img src=\"https://colab.research.google.com/assets/colab-badge.svg\" alt=\"Open In Colab\"/></a>"
      ]
    },
    {
      "cell_type": "code",
      "execution_count": 1,
      "metadata": {
        "colab": {
          "base_uri": "https://localhost:8080/"
        },
        "id": "WSqppBjYGESr",
        "outputId": "53709564-a09a-4593-d463-b0ca6ee54246"
      },
      "outputs": [
        {
          "output_type": "stream",
          "name": "stdout",
          "text": [
            "a!==b: True\n",
            "a!=b: True\n",
            "a>b: True\n",
            "a<b: False\n",
            "a>=b: True\n",
            "a<=b: False\n"
          ]
        }
      ],
      "source": [
        "a=8;\n",
        "b=4;\n",
        "print(\"a!==b:\",a!=b)\n",
        "print(\"a!=b:\",a!=b)\n",
        "print(\"a>b:\",a>b)\n",
        "print(\"a<b:\",a<b)\n",
        "print(\"a>=b:\",a>=b)\n",
        "print(\"a<=b:\",a<=b)"
      ]
    }
  ]
}