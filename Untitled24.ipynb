{
  "nbformat": 4,
  "nbformat_minor": 0,
  "metadata": {
    "colab": {
      "provenance": [],
      "authorship_tag": "ABX9TyOmpIHQjClE342wOOIz+Hcc",
      "include_colab_link": true
    },
    "kernelspec": {
      "name": "python3",
      "display_name": "Python 3"
    },
    "language_info": {
      "name": "python"
    }
  },
  "cells": [
    {
      "cell_type": "markdown",
      "metadata": {
        "id": "view-in-github",
        "colab_type": "text"
      },
      "source": [
        "<a href=\"https://colab.research.google.com/github/suji0627/Digitalportfolio/blob/main/Untitled24.ipynb\" target=\"_parent\"><img src=\"https://colab.research.google.com/assets/colab-badge.svg\" alt=\"Open In Colab\"/></a>"
      ]
    },
    {
      "cell_type": "code",
      "source": [
        "x=8\n",
        "y=4\n",
        "print(\"+=;\",x)\n",
        "x-=1\n",
        "print(\"-=:\",x)\n",
        "x*=4\n",
        "print(\"*=:\",x)\n",
        "x/=5\n",
        "print(\"/=:\",x)\n",
        "x%6\n",
        "print(\"%=:\",x)\n",
        "x**=2\n",
        "print(\"**=:\",x)"
      ],
      "metadata": {
        "colab": {
          "base_uri": "https://localhost:8080/"
        },
        "id": "f-hjWoFtCwgG",
        "outputId": "9d3c2adb-53b3-4505-8034-00344f78c496"
      },
      "execution_count": 5,
      "outputs": [
        {
          "output_type": "stream",
          "name": "stdout",
          "text": [
            "+=; 8\n",
            "-=: 7\n",
            "*=: 28\n",
            "/=: 5.6\n",
            "%=: 5.6\n",
            "**=: 31.359999999999996\n"
          ]
        }
      ]
    }
  ]
}