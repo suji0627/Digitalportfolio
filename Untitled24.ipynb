{
  "nbformat": 4,
  "nbformat_minor": 0,
  "metadata": {
    "colab": {
      "provenance": [],
      "authorship_tag": "ABX9TyOaHY2TXW59oVEyEg0u82wf",
      "include_colab_link": true
    },
    "kernelspec": {
      "name": "python3",
      "display_name": "Python 3"
    },
    "language_info": {
      "name": "python"
    }
  },
  "cells": [
    {
      "cell_type": "markdown",
      "metadata": {
        "id": "view-in-github",
        "colab_type": "text"
      },
      "source": [
        "<a href=\"https://colab.research.google.com/github/suji0627/Digitalportfolio/blob/main/Untitled24.ipynb\" target=\"_parent\"><img src=\"https://colab.research.google.com/assets/colab-badge.svg\" alt=\"Open In Colab\"/></a>"
      ]
    },
    {
      "cell_type": "code",
      "execution_count": 2,
      "metadata": {
        "colab": {
          "base_uri": "https://localhost:8080/"
        },
        "id": "14MQZAHv_CMN",
        "outputId": "8e0fc4fd-56a6-4c4d-cd7e-599e34f568b4"
      },
      "outputs": [
        {
          "output_type": "stream",
          "name": "stdout",
          "text": [
            "addition: 15\n",
            "subtraction: 5\n",
            "multiplication: 50\n",
            "divition: 2.0\n",
            "floor divition: 2\n",
            "moduls: 0\n",
            "exponent: 100000\n"
          ]
        }
      ],
      "source": [
        "a=10;\n",
        "b=5;\n",
        "print(\"addition:\",a+b)\n",
        "print(\"subtraction:\",a-b)\n",
        "print(\"multiplication:\",a*b)\n",
        "print(\"divition:\",a/b)\n",
        "print(\"floor divition:\",a//b)\n",
        "print(\"moduls:\",a%b)\n",
        "print(\"exponent:\",a**b)"
      ]
    },
    {
      "cell_type": "code",
      "source": [
        "x=8\n",
        "y=4\n",
        "print(\"+=;\",x)\n",
        "x-=1\n",
        "print(\"-=:\",x)\n",
        "x*=4\n",
        "print(\"*=:\",x)\n",
        "x/=5\n",
        "print(\"/=:\",x)\n",
        "x%6\n",
        "print(\"%=:\",x)\n",
        "x**=2\n",
        "print(\"**=:\",x)"
      ],
      "metadata": {
        "colab": {
          "base_uri": "https://localhost:8080/"
        },
        "id": "f-hjWoFtCwgG",
        "outputId": "9d3c2adb-53b3-4505-8034-00344f78c496"
      },
      "execution_count": 5,
      "outputs": [
        {
          "output_type": "stream",
          "name": "stdout",
          "text": [
            "+=; 8\n",
            "-=: 7\n",
            "*=: 28\n",
            "/=: 5.6\n",
            "%=: 5.6\n",
            "**=: 31.359999999999996\n"
          ]
        }
      ]
    }
  ]
}