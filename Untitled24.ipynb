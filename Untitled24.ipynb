{
  "nbformat": 4,
  "nbformat_minor": 0,
  "metadata": {
    "colab": {
      "provenance": [],
      "authorship_tag": "ABX9TyOjcloJxdOwl/GwsAra//i+",
      "include_colab_link": true
    },
    "kernelspec": {
      "name": "python3",
      "display_name": "Python 3"
    },
    "language_info": {
      "name": "python"
    }
  },
  "cells": [
    {
      "cell_type": "markdown",
      "metadata": {
        "id": "view-in-github",
        "colab_type": "text"
      },
      "source": [
        "<a href=\"https://colab.research.google.com/github/suji0627/Digitalportfolio/blob/main/Untitled24.ipynb\" target=\"_parent\"><img src=\"https://colab.research.google.com/assets/colab-badge.svg\" alt=\"Open In Colab\"/></a>"
      ]
    },
    {
      "cell_type": "code",
      "execution_count": 2,
      "metadata": {
        "colab": {
          "base_uri": "https://localhost:8080/"
        },
        "id": "14MQZAHv_CMN",
        "outputId": "8e0fc4fd-56a6-4c4d-cd7e-599e34f568b4"
      },
      "outputs": [
        {
          "output_type": "stream",
          "name": "stdout",
          "text": [
            "addition: 15\n",
            "subtraction: 5\n",
            "multiplication: 50\n",
            "divition: 2.0\n",
            "floor divition: 2\n",
            "moduls: 0\n",
            "exponent: 100000\n"
          ]
        }
      ],
      "source": [
        "a=10;\n",
        "b=5;\n",
        "print(\"addition:\",a+b)\n",
        "print(\"subtraction:\",a-b)\n",
        "print(\"multiplication:\",a*b)\n",
        "print(\"divition:\",a/b)\n",
        "print(\"floor divition:\",a//b)\n",
        "print(\"moduls:\",a%b)\n",
        "print(\"exponent:\",a**b)"
      ]
    }
  ]
}