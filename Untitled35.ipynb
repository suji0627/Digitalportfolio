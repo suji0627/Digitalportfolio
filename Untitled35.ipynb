{
  "nbformat": 4,
  "nbformat_minor": 0,
  "metadata": {
    "colab": {
      "provenance": [],
      "authorship_tag": "ABX9TyNrabYn/9dUQTDUISQewFHS",
      "include_colab_link": true
    },
    "kernelspec": {
      "name": "python3",
      "display_name": "Python 3"
    },
    "language_info": {
      "name": "python"
    }
  },
  "cells": [
    {
      "cell_type": "markdown",
      "metadata": {
        "id": "view-in-github",
        "colab_type": "text"
      },
      "source": [
        "<a href=\"https://colab.research.google.com/github/suji0627/Digitalportfolio/blob/main/Untitled35.ipynb\" target=\"_parent\"><img src=\"https://colab.research.google.com/assets/colab-badge.svg\" alt=\"Open In Colab\"/></a>"
      ]
    },
    {
      "cell_type": "code",
      "execution_count": 11,
      "metadata": {
        "colab": {
          "base_uri": "https://localhost:8080/"
        },
        "id": "ct3nJaLpa46W",
        "outputId": "f9936da3-aef4-41e1-a5ff-4574053b0332"
      },
      "outputs": [
        {
          "output_type": "stream",
          "name": "stdout",
          "text": [
            "   gender race/ethnicity parental level of education         lunch  \\\n",
            "0       0        group B           bachelor's degree      standard   \n",
            "1       0        group C                some college      standard   \n",
            "2       0        group B             master's degree      standard   \n",
            "3       1        group A          associate's degree  free/reduced   \n",
            "4       1        group C                some college      standard   \n",
            "\n",
            "  test preparation course  math score  reading score  writing score  \n",
            "0                    none    0.390024       0.193999       0.391492  \n",
            "1               completed    0.192076       1.427476       1.313269  \n",
            "2                    none    1.577711       1.770109       1.642475  \n",
            "3                    none   -1.259543      -0.833899      -1.583744  \n",
            "4                    none    0.653954       0.605158       0.457333  \n"
          ]
        }
      ],
      "source": [
        "import pandas as pd\n",
        "from sklearn.preprocessing import LabelEncoder, StandardScaler\n",
        "\n",
        "\n",
        "# Dataset load pannrom\n",
        "df = pd.read_csv(\"/content/StudentsPerformance.csv\")\n",
        "\n",
        "# Categories columns encode pannanum - 'gender'\n",
        "le =LabelEncoder()\n",
        "df[\"gender\"] = le.fit_transform(df[\"gender\"]) # Male = 1, Female = 0\n",
        "\n",
        "# Feature scaling - scores\n",
        "scalar = StandardScaler()\n",
        "df[[\"math score\", \"reading score\", \"writing score\"]] = scalar.fit_transform(df[[\"math score\", \"reading score\", \"writing score\"]])\n",
        "\n",
        "# Check the transformed data\n",
        "print(df.head())\n",
        "\n",
        "\n"
      ]
    }
  ]
}