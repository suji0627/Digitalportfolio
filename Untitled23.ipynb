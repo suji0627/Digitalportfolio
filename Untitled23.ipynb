{
  "nbformat": 4,
  "nbformat_minor": 0,
  "metadata": {
    "colab": {
      "provenance": [],
      "authorship_tag": "ABX9TyNdlj0zkqSWrTIMGgwDQd0C",
      "include_colab_link": true
    },
    "kernelspec": {
      "name": "python3",
      "display_name": "Python 3"
    },
    "language_info": {
      "name": "python"
    }
  },
  "cells": [
    {
      "cell_type": "markdown",
      "metadata": {
        "id": "view-in-github",
        "colab_type": "text"
      },
      "source": [
        "<a href=\"https://colab.research.google.com/github/suji0627/Digitalportfolio/blob/main/Untitled23.ipynb\" target=\"_parent\"><img src=\"https://colab.research.google.com/assets/colab-badge.svg\" alt=\"Open In Colab\"/></a>"
      ]
    },
    {
      "cell_type": "code",
      "source": [
        "age=int(input(\"enter your age:\"))\n",
        "if age >=18:\n",
        "  print (\"your are an adult.\");\n",
        "elif age <=18:\n",
        "    print (\"you are an old.\");\n",
        "else:\n",
        "    print(\"you are an child.\");"
      ],
      "metadata": {
        "id": "cIhQA0J3oiw5",
        "colab": {
          "base_uri": "https://localhost:8080/"
        },
        "outputId": "4b5e5463-7814-4eb7-9f2d-a3ac5b7cf31e"
      },
      "execution_count": 4,
      "outputs": [
        {
          "output_type": "stream",
          "name": "stdout",
          "text": [
            "enter your age:18\n",
            "your are an adult.\n"
          ]
        }
      ]
    }
  ]
}