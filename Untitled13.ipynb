{
  "nbformat": 4,
  "nbformat_minor": 0,
  "metadata": {
    "colab": {
      "provenance": [],
      "authorship_tag": "ABX9TyMYYREUE/riH+3l00TVLl7q",
      "include_colab_link": true
    },
    "kernelspec": {
      "name": "python3",
      "display_name": "Python 3"
    },
    "language_info": {
      "name": "python"
    }
  },
  "cells": [
    {
      "cell_type": "markdown",
      "metadata": {
        "id": "view-in-github",
        "colab_type": "text"
      },
      "source": [
        "<a href=\"https://colab.research.google.com/github/suji0627/Digitalportfolio/blob/main/Untitled13.ipynb\" target=\"_parent\"><img src=\"https://colab.research.google.com/assets/colab-badge.svg\" alt=\"Open In Colab\"/></a>"
      ]
    },
    {
      "cell_type": "code",
      "execution_count": 1,
      "metadata": {
        "colab": {
          "base_uri": "https://localhost:8080/"
        },
        "id": "1XIQk6LBPjFl",
        "outputId": "0e6a6476-bd06-42f3-dcd2-558c08fbf0b0"
      },
      "outputs": [
        {
          "output_type": "stream",
          "name": "stdout",
          "text": [
            "Top 5 Rows:\n",
            "    gender race/ethnicity parental level of education         lunch  \\\n",
            "0  female        group B           bachelor's degree      standard   \n",
            "1  female        group C                some college      standard   \n",
            "2  female        group B             master's degree      standard   \n",
            "3    male        group A          associate's degree  free/reduced   \n",
            "4    male        group C                some college      standard   \n",
            "\n",
            "  test preparation course  math score  reading score  writing score  \\\n",
            "0                    none          72             72             74   \n",
            "1               completed          69             90             88   \n",
            "2                    none          90             95             93   \n",
            "3                    none          47             57             44   \n",
            "4                    none          76             78             75   \n",
            "\n",
            "   Total score  \n",
            "0          218  \n",
            "1          247  \n",
            "2          278  \n",
            "3          148  \n",
            "4          229  \n",
            "\n",
            "Cleaned & Engineered Data Sample:\n",
            "   gender race/ethnicity parental level of education test preparation course  \\\n",
            "0  female        group B           bachelor's degree                    none   \n",
            "1  female        group C                some college               completed   \n",
            "2  female        group B             master's degree                    none   \n",
            "3    male        group A          associate's degree                    none   \n",
            "4    male        group C                some college                    none   \n",
            "\n",
            "   math score  reading score  writing score  Total score  total_marks  \\\n",
            "0        0.72       0.662651       0.711111          218          218   \n",
            "1        0.69       0.879518       0.866667          247          247   \n",
            "2        0.90       0.939759       0.922222          278          278   \n",
            "3        0.47       0.481928       0.377778          148          148   \n",
            "4        0.76       0.734940       0.722222          229          229   \n",
            "\n",
            "   average_marks  gender_marks  lunch_standard math_level  \n",
            "0      72.666667             1            True     Medium  \n",
            "1      82.333333             1            True     Medium  \n",
            "2      92.666667             1            True       High  \n",
            "3      49.333333             0           False        Low  \n",
            "4      76.333333             0            True       High  \n",
            "\n",
            "Dataset Info:\n",
            "<class 'pandas.core.frame.DataFrame'>\n",
            "RangeIndex: 1000 entries, 0 to 999\n",
            "Data columns (total 13 columns):\n",
            " #   Column                       Non-Null Count  Dtype   \n",
            "---  ------                       --------------  -----   \n",
            " 0   gender                       1000 non-null   object  \n",
            " 1   race/ethnicity               1000 non-null   object  \n",
            " 2   parental level of education  1000 non-null   object  \n",
            " 3   test preparation course      1000 non-null   object  \n",
            " 4   math score                   1000 non-null   float64 \n",
            " 5   reading score                1000 non-null   float64 \n",
            " 6   writing score                1000 non-null   float64 \n",
            " 7   Total score                  1000 non-null   int64   \n",
            " 8   total_marks                  1000 non-null   int64   \n",
            " 9   average_marks                1000 non-null   float64 \n",
            " 10  gender_marks                 1000 non-null   int64   \n",
            " 11  lunch_standard               1000 non-null   bool    \n",
            " 12  math_level                   999 non-null    category\n",
            "dtypes: bool(1), category(1), float64(4), int64(3), object(4)\n",
            "memory usage: 88.1+ KB\n",
            "None\n"
          ]
        }
      ],
      "source": [
        "# Step 1: Import pannura libraies\n",
        "import pandas as pd\n",
        "from sklearn.preprocessing import MinMaxScaler\n",
        "\n",
        "# Step 2: Dataset load pannrom\n",
        "df = pd.read_csv(\"/content/StudentsPerformance.csv\")\n",
        "\n",
        "# Step 3: Top 5 rows check pannalam\n",
        "print(\"Top 5 Rows:\\n\", df.head())\n",
        "\n",
        "# Step 4: Total marks column add pannrom\n",
        "df[\"total_marks\"] = df[\"math score\"] + df[\"reading score\"] + df[\"writing score\"]\n",
        "\n",
        "# Step 5: Average marks column add pannrom\n",
        "df[\"average_marks\"] = df[\"total_marks\"] / 3\n",
        "\n",
        "# Step 6: Gender-a label encode panrom (male = 0, female = 1)\n",
        "df[\"gender_marks\"] = df[\"gender\"].map({\"male\": 0, \"female\": 1})\n",
        "\n",
        "# Step 7: Lunch column one-hot encoding (standard irundha 1, illana 0)\n",
        "df = pd.get_dummies(df, columns=[\"lunch\"], drop_first=True)\n",
        "\n",
        "# Step 8: Math mark score - binning (3 category la split pannrom)\n",
        "df[\"math_level\"] = pd.cut(df[\"math score\"],\n",
        "                          bins=[0, 50, 75, 100],\n",
        "                          labels=[\"Low\", \"Medium\", \"High\"])\n",
        "\n",
        "# Step 9: Scaling - 0 to 1 range la math, reading, writing scores scale pannrom\n",
        "scaler = MinMaxScaler()\n",
        "df[[\"math score\", \"reading score\", \"writing score\"]] = scaler.fit_transform(\n",
        "    df[[\"math score\", \"reading score\", \"writing score\"]])\n",
        "\n",
        "# Step 10: Final dataset shape and sample rows\n",
        "print(\"\\nCleaned & Engineered Data Sample:\")\n",
        "print(df.head())\n",
        "\n",
        "print(\"\\nDataset Info:\")\n",
        "print(df.info())"
      ]
    }
  ]
}