{
  "nbformat": 4,
  "nbformat_minor": 0,
  "metadata": {
    "colab": {
      "provenance": [],
      "authorship_tag": "ABX9TyMYyxMB/8c23yCz7xSNT31m",
      "include_colab_link": true
    },
    "kernelspec": {
      "name": "python3",
      "display_name": "Python 3"
    },
    "language_info": {
      "name": "python"
    }
  },
  "cells": [
    {
      "cell_type": "markdown",
      "metadata": {
        "id": "view-in-github",
        "colab_type": "text"
      },
      "source": [
        "<a href=\"https://colab.research.google.com/github/suji0627/Digitalportfolio/blob/main/Untitled34.ipynb\" target=\"_parent\"><img src=\"https://colab.research.google.com/assets/colab-badge.svg\" alt=\"Open In Colab\"/></a>"
      ]
    },
    {
      "cell_type": "code",
      "execution_count": 4,
      "metadata": {
        "colab": {
          "base_uri": "https://localhost:8080/"
        },
        "id": "hNnta6yiakBQ",
        "outputId": "fc5291a1-4851-4e58-8b98-8075195c5c2f"
      },
      "outputs": [
        {
          "output_type": "stream",
          "name": "stdout",
          "text": [
            "Mean Squared Error: 8379501.385041531\n"
          ]
        }
      ],
      "source": [
        "from sklearn.linear_model import LinearRegression\n",
        "from sklearn.model_selection import train_test_split\n",
        "from sklearn.metrics import mean_squared_error\n",
        "import pandas as pd\n",
        "\n",
        "# Sample dataset\n",
        "data={\n",
        "    # Corrected typo in column name and ensured lists have the same length\n",
        "    'Experience':[1,2,3,4.5],\n",
        "    'Salary':[30000,40000,50000,60000] # Removed one salary value to match the length of 'Experience'\n",
        "}\n",
        "df=pd.DataFrame(data)\n",
        "\n",
        "x=df[['Experience']]\n",
        "y=df['Salary']\n",
        "\n",
        "# Step 1: Split data\n",
        "x_train,x_test,y_train,y_test=train_test_split(x,y,test_size=0.2)\n",
        "\n",
        "# Step 2:Create model\n",
        "model = LinearRegression()\n",
        "\n",
        "# Step 3: Train\n",
        "model.fit(x_train,y_train)\n",
        "\n",
        "# Step 4: Predict\n",
        "prediction=model.predict(x_test)\n",
        "\n",
        "# Step 4: Evaluate\n",
        "mse=mean_squared_error(y_test,prediction)\n",
        "print(\"Mean Squared Error:\",mse)"
      ]
    }
  ]
}