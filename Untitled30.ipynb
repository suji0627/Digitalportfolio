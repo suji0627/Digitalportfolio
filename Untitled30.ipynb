{
  "nbformat": 4,
  "nbformat_minor": 0,
  "metadata": {
    "colab": {
      "provenance": [],
      "authorship_tag": "ABX9TyOVsaVnJPltz0CPbj7UxDIK",
      "include_colab_link": true
    },
    "kernelspec": {
      "name": "python3",
      "display_name": "Python 3"
    },
    "language_info": {
      "name": "python"
    }
  },
  "cells": [
    {
      "cell_type": "markdown",
      "metadata": {
        "id": "view-in-github",
        "colab_type": "text"
      },
      "source": [
        "<a href=\"https://colab.research.google.com/github/suji0627/Digitalportfolio/blob/main/Untitled30.ipynb\" target=\"_parent\"><img src=\"https://colab.research.google.com/assets/colab-badge.svg\" alt=\"Open In Colab\"/></a>"
      ]
    },
    {
      "cell_type": "code",
      "execution_count": 1,
      "metadata": {
        "colab": {
          "base_uri": "https://localhost:8080/"
        },
        "id": "mAIegH0GV0UU",
        "outputId": "e0adf913-d4e8-4eed-a3cc-3500b044a0f8"
      },
      "outputs": [
        {
          "output_type": "stream",
          "name": "stdout",
          "text": [
            "addition: 35\n",
            "subtraction: 5\n",
            "multiplication: 300\n",
            "divition: 1.3333333333333333\n",
            "floor divition: 1\n",
            "modulus: 5\n",
            "exponent: 32768000000000000000\n"
          ]
        }
      ],
      "source": [
        "a=20\n",
        "b=15\n",
        "print(\"addition:\",a+b)\n",
        "print(\"subtraction:\",a-b)\n",
        "print(\"multiplication:\",a*b)\n",
        "print(\"divition:\",a/b)\n",
        "print(\"floor divition:\",a//b)\n",
        "print(\"modulus:\",a%b)\n",
        "print(\"exponent:\",a**b)"
      ]
    }
  ]
}